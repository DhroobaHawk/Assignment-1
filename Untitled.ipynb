{
 "cells": [
  {
   "cell_type": "code",
   "execution_count": 3,
   "metadata": {},
   "outputs": [
    {
     "name": "stdout",
     "output_type": "stream",
     "text": [
      "Enter m: 6\n",
      "Enter n: 3\n",
      "*  *  *  *  *  *  \n",
      "\n",
      "*              *  \n",
      "\n",
      "*  *  *  *  *  *  "
     ]
    }
   ],
   "source": [
    "def rectangle(m,n):\n",
    "    for x in range(m):\n",
    "        print(\"*\", end=\"  \")\n",
    "    print(\"\\n\")\n",
    "    for x in range(n-2):\n",
    "        for y in range(m):\n",
    "            if(y == 0 or y == m-1):\n",
    "                print(\"*\", end=\"  \")\n",
    "            else:\n",
    "                print(\" \", end=\"  \")\n",
    "        print(\"\\n\")\n",
    "    for x in range(m):\n",
    "        print(\"*\", end=\"  \")\n",
    "m = input(\"Enter m: \")\n",
    "n = input(\"Enter n: \")\n",
    "rectangle(int(m),int(n))"
   ]
  },
  {
   "cell_type": "code",
   "execution_count": null,
   "metadata": {},
   "outputs": [],
   "source": []
  },
  {
   "cell_type": "code",
   "execution_count": null,
   "metadata": {},
   "outputs": [],
   "source": []
  }
 ],
 "metadata": {
  "kernelspec": {
   "display_name": "Python 3",
   "language": "python",
   "name": "python3"
  },
  "language_info": {
   "codemirror_mode": {
    "name": "ipython",
    "version": 3
   },
   "file_extension": ".py",
   "mimetype": "text/x-python",
   "name": "python",
   "nbconvert_exporter": "python",
   "pygments_lexer": "ipython3",
   "version": "3.7.0"
  }
 },
 "nbformat": 4,
 "nbformat_minor": 2
}
