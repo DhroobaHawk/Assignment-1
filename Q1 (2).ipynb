{
 "cells": [
  {
   "cell_type": "code",
   "execution_count": null,
   "metadata": {},
   "outputs": [],
   "source": [
    "Q1.#write a function called rectangle thats takes two integers m and n as arguments and prints out an    m*n box consisting of asterisks.\n",
    "\n",
    "solution:\n",
    "\n",
    "def rectangle(m,n):\n",
    "    for x in range(m):\n",
    "        print(\"*\", end=\"  \")\n",
    "    print(\"\\n\")\n",
    "    for x in range(n-2):\n",
    "        for y in range(m):\n",
    "            if(y == 0 or y == m-1):\n",
    "                print(\"*\", end=\"  \")\n",
    "            else:\n",
    "                print(\" \", end=\"  \")\n",
    "        print(\"\\n\")\n",
    "    for x in range(m):\n",
    "        print(\"*\", end=\"  \")\n",
    "m = input(\"Enter m: \")\n",
    "n = input(\"Enter n: \")\n",
    "rectangle(int(m),int(n))"
   ]
  },
  {
   "cell_type": "code",
   "execution_count": null,
   "metadata": {},
   "outputs": [],
   "source": []
  },
  {
   "cell_type": "code",
   "execution_count": null,
   "metadata": {},
   "outputs": [],
   "source": []
  }
 ],
 "metadata": {
  "kernelspec": {
   "display_name": "Python 3",
   "language": "python",
   "name": "python3"
  },
  "language_info": {
   "codemirror_mode": {
    "name": "ipython",
    "version": 3
   },
   "file_extension": ".py",
   "mimetype": "text/x-python",
   "name": "python",
   "nbconvert_exporter": "python",
   "pygments_lexer": "ipython3",
   "version": "3.7.0"
  }
 },
 "nbformat": 4,
 "nbformat_minor": 2
}
